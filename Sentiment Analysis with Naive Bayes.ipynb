{
 "cells": [
  {
   "cell_type": "code",
   "execution_count": 102,
   "metadata": {},
   "outputs": [],
   "source": [
    "import pandas as pd\n",
    "from sklearn.feature_extraction.text import TfidfVectorizer\n",
    "from sklearn.naive_bayes import GaussianNB\n",
    "from sklearn.model_selection import train_test_split\n",
    "from sklearn.metrics import classification_report, confusion_matrix, accuracy_score"
   ]
  },
  {
   "cell_type": "markdown",
   "metadata": {},
   "source": [
    "dataset yang akan dicari nilai sentiment"
   ]
  },
  {
   "cell_type": "code",
   "execution_count": 103,
   "metadata": {},
   "outputs": [
    {
     "data": {
      "text/html": [
       "<div>\n",
       "<style scoped>\n",
       "    .dataframe tbody tr th:only-of-type {\n",
       "        vertical-align: middle;\n",
       "    }\n",
       "\n",
       "    .dataframe tbody tr th {\n",
       "        vertical-align: top;\n",
       "    }\n",
       "\n",
       "    .dataframe thead th {\n",
       "        text-align: right;\n",
       "    }\n",
       "</style>\n",
       "<table border=\"1\" class=\"dataframe\">\n",
       "  <thead>\n",
       "    <tr style=\"text-align: right;\">\n",
       "      <th></th>\n",
       "      <th>tweet</th>\n",
       "      <th>userid</th>\n",
       "    </tr>\n",
       "  </thead>\n",
       "  <tbody>\n",
       "    <tr>\n",
       "      <th>0</th>\n",
       "      <td>umk sragen ditetapkan rp rp sayang terendah so...</td>\n",
       "      <td>949224511508955136</td>\n",
       "    </tr>\n",
       "    <tr>\n",
       "      <th>1</th>\n",
       "      <td>umk kota bekasi ump dki jakarta yak terobosss😭</td>\n",
       "      <td>1259379786566086658</td>\n",
       "    </tr>\n",
       "    <tr>\n",
       "      <th>2</th>\n",
       "      <td>umk yo regone mundak maneh bos</td>\n",
       "      <td>1572322873</td>\n",
       "    </tr>\n",
       "    <tr>\n",
       "      <th>3</th>\n",
       "      <td>umk kabupatenkota jawa resmi diumumkan kota se...</td>\n",
       "      <td>949224511508955136</td>\n",
       "    </tr>\n",
       "    <tr>\n",
       "      <th>4</th>\n",
       "      <td>sumpah umk malang segini iya mending nyari ker...</td>\n",
       "      <td>181023564</td>\n",
       "    </tr>\n",
       "    <tr>\n",
       "      <th>...</th>\n",
       "      <td>...</td>\n",
       "      <td>...</td>\n",
       "    </tr>\n",
       "    <tr>\n",
       "      <th>1598</th>\n",
       "      <td>ngelihat gaji dihitung make idr susah nyentuh ...</td>\n",
       "      <td>1200035940372078592</td>\n",
       "    </tr>\n",
       "    <tr>\n",
       "      <th>1599</th>\n",
       "      <td>umk solo rp ribu dinilai layak</td>\n",
       "      <td>2392460208</td>\n",
       "    </tr>\n",
       "    <tr>\n",
       "      <th>1600</th>\n",
       "      <td>bicaranya tidak sesuai kenyataan jakarta warga...</td>\n",
       "      <td>984001438408953857</td>\n",
       "    </tr>\n",
       "    <tr>\n",
       "      <th>1601</th>\n",
       "      <td>dikabarkan persen daftar umk provinsi banten c...</td>\n",
       "      <td>1243113157066776576</td>\n",
       "    </tr>\n",
       "    <tr>\n",
       "      <th>1602</th>\n",
       "      <td>nafsu menguasai apapun gaji tidak lihat umk da...</td>\n",
       "      <td>2281623938</td>\n",
       "    </tr>\n",
       "  </tbody>\n",
       "</table>\n",
       "<p>1603 rows × 2 columns</p>\n",
       "</div>"
      ],
      "text/plain": [
       "                                                  tweet               userid\n",
       "0     umk sragen ditetapkan rp rp sayang terendah so...   949224511508955136\n",
       "1        umk kota bekasi ump dki jakarta yak terobosss😭  1259379786566086658\n",
       "2                        umk yo regone mundak maneh bos           1572322873\n",
       "3     umk kabupatenkota jawa resmi diumumkan kota se...   949224511508955136\n",
       "4     sumpah umk malang segini iya mending nyari ker...            181023564\n",
       "...                                                 ...                  ...\n",
       "1598  ngelihat gaji dihitung make idr susah nyentuh ...  1200035940372078592\n",
       "1599                     umk solo rp ribu dinilai layak           2392460208\n",
       "1600  bicaranya tidak sesuai kenyataan jakarta warga...   984001438408953857\n",
       "1601  dikabarkan persen daftar umk provinsi banten c...  1243113157066776576\n",
       "1602  nafsu menguasai apapun gaji tidak lihat umk da...           2281623938\n",
       "\n",
       "[1603 rows x 2 columns]"
      ]
     },
     "execution_count": 103,
     "metadata": {},
     "output_type": "execute_result"
    }
   ],
   "source": [
    "df_tweets = pd.read_csv('umk_tweets_202112_clean.csv')\n",
    "df_tweets"
   ]
  },
  {
   "cell_type": "markdown",
   "metadata": {},
   "source": [
    "dataset untuk training model"
   ]
  },
  {
   "cell_type": "code",
   "execution_count": 104,
   "metadata": {},
   "outputs": [
    {
     "data": {
      "text/html": [
       "<div>\n",
       "<style scoped>\n",
       "    .dataframe tbody tr th:only-of-type {\n",
       "        vertical-align: middle;\n",
       "    }\n",
       "\n",
       "    .dataframe tbody tr th {\n",
       "        vertical-align: top;\n",
       "    }\n",
       "\n",
       "    .dataframe thead th {\n",
       "        text-align: right;\n",
       "    }\n",
       "</style>\n",
       "<table border=\"1\" class=\"dataframe\">\n",
       "  <thead>\n",
       "    <tr style=\"text-align: right;\">\n",
       "      <th></th>\n",
       "      <th>Id</th>\n",
       "      <th>Sentiment</th>\n",
       "      <th>Instagram Comment Text</th>\n",
       "    </tr>\n",
       "  </thead>\n",
       "  <tbody>\n",
       "    <tr>\n",
       "      <th>0</th>\n",
       "      <td>1</td>\n",
       "      <td>negative</td>\n",
       "      <td>&lt;USERNAME&gt; TOLOL!! Gak ada hubungan nya kegug...</td>\n",
       "    </tr>\n",
       "    <tr>\n",
       "      <th>1</th>\n",
       "      <td>2</td>\n",
       "      <td>negative</td>\n",
       "      <td>Geblek lo tata...cowo bgt dibela2in balikan......</td>\n",
       "    </tr>\n",
       "    <tr>\n",
       "      <th>2</th>\n",
       "      <td>3</td>\n",
       "      <td>negative</td>\n",
       "      <td>Kmrn termewek2 skr lengket lg duhhh kok labil ...</td>\n",
       "    </tr>\n",
       "    <tr>\n",
       "      <th>3</th>\n",
       "      <td>4</td>\n",
       "      <td>negative</td>\n",
       "      <td>Intinya kalau kesel dengan ATT nya, gausah ke ...</td>\n",
       "    </tr>\n",
       "    <tr>\n",
       "      <th>4</th>\n",
       "      <td>5</td>\n",
       "      <td>negative</td>\n",
       "      <td>hadewwwww permpuan itu lg!!!!sakit jiwa,knp ha...</td>\n",
       "    </tr>\n",
       "    <tr>\n",
       "      <th>...</th>\n",
       "      <td>...</td>\n",
       "      <td>...</td>\n",
       "      <td>...</td>\n",
       "    </tr>\n",
       "    <tr>\n",
       "      <th>395</th>\n",
       "      <td>396</td>\n",
       "      <td>positive</td>\n",
       "      <td>Bangga sama suami yg selalu ingat istri disela...</td>\n",
       "    </tr>\n",
       "    <tr>\n",
       "      <th>396</th>\n",
       "      <td>397</td>\n",
       "      <td>positive</td>\n",
       "      <td>Apaoun pekerjaannya yg penting halal u tuk men...</td>\n",
       "    </tr>\n",
       "    <tr>\n",
       "      <th>397</th>\n",
       "      <td>398</td>\n",
       "      <td>positive</td>\n",
       "      <td>Gojek itu mayoritas pegangguran yang lama gak ...</td>\n",
       "    </tr>\n",
       "    <tr>\n",
       "      <th>398</th>\n",
       "      <td>399</td>\n",
       "      <td>positive</td>\n",
       "      <td>&lt;USERNAME&gt; aslinya cantik dan ayu loh mbak kr...</td>\n",
       "    </tr>\n",
       "    <tr>\n",
       "      <th>399</th>\n",
       "      <td>400</td>\n",
       "      <td>positive</td>\n",
       "      <td>&lt;USERNAME&gt; suami saya seumuran sama saya mba,...</td>\n",
       "    </tr>\n",
       "  </tbody>\n",
       "</table>\n",
       "<p>400 rows × 3 columns</p>\n",
       "</div>"
      ],
      "text/plain": [
       "      Id Sentiment                             Instagram Comment Text\n",
       "0      1  negative   <USERNAME> TOLOL!! Gak ada hubungan nya kegug...\n",
       "1      2  negative  Geblek lo tata...cowo bgt dibela2in balikan......\n",
       "2      3  negative  Kmrn termewek2 skr lengket lg duhhh kok labil ...\n",
       "3      4  negative  Intinya kalau kesel dengan ATT nya, gausah ke ...\n",
       "4      5  negative  hadewwwww permpuan itu lg!!!!sakit jiwa,knp ha...\n",
       "..   ...       ...                                                ...\n",
       "395  396  positive  Bangga sama suami yg selalu ingat istri disela...\n",
       "396  397  positive  Apaoun pekerjaannya yg penting halal u tuk men...\n",
       "397  398  positive  Gojek itu mayoritas pegangguran yang lama gak ...\n",
       "398  399  positive   <USERNAME> aslinya cantik dan ayu loh mbak kr...\n",
       "399  400  positive   <USERNAME> suami saya seumuran sama saya mba,...\n",
       "\n",
       "[400 rows x 3 columns]"
      ]
     },
     "execution_count": 104,
     "metadata": {},
     "output_type": "execute_result"
    }
   ],
   "source": [
    "df_tweets_model = pd.read_csv('dataset_komentar_instagram_cyberbullying.csv')\n",
    "df_tweets_model"
   ]
  },
  {
   "cell_type": "markdown",
   "metadata": {},
   "source": [
    "Karena masih terdapat kolom yang tidak perlu dan kita perlu mengubah kolom sentiment menjadi numerik, maka kita lakukan transformasi pada kedua dataframe"
   ]
  },
  {
   "cell_type": "code",
   "execution_count": 105,
   "metadata": {},
   "outputs": [],
   "source": [
    "df_tweets_model.rename(columns={\"Instagram Comment Text\":\"Text\"}, inplace=True)\n",
    "df_tweets_model.drop(columns=[\"Id\"],inplace=True,)\n",
    "df_tweets_model.replace({\"Sentiment\":{\"negative\":0, \"positive\":1}}, inplace=True)"
   ]
  },
  {
   "cell_type": "code",
   "execution_count": 106,
   "metadata": {},
   "outputs": [
    {
     "data": {
      "text/html": [
       "<div>\n",
       "<style scoped>\n",
       "    .dataframe tbody tr th:only-of-type {\n",
       "        vertical-align: middle;\n",
       "    }\n",
       "\n",
       "    .dataframe tbody tr th {\n",
       "        vertical-align: top;\n",
       "    }\n",
       "\n",
       "    .dataframe thead th {\n",
       "        text-align: right;\n",
       "    }\n",
       "</style>\n",
       "<table border=\"1\" class=\"dataframe\">\n",
       "  <thead>\n",
       "    <tr style=\"text-align: right;\">\n",
       "      <th></th>\n",
       "      <th>tweet</th>\n",
       "      <th>userid</th>\n",
       "    </tr>\n",
       "  </thead>\n",
       "  <tbody>\n",
       "    <tr>\n",
       "      <th>0</th>\n",
       "      <td>umk sragen ditetapkan rp rp sayang terendah so...</td>\n",
       "      <td>949224511508955136</td>\n",
       "    </tr>\n",
       "    <tr>\n",
       "      <th>1</th>\n",
       "      <td>umk kota bekasi ump dki jakarta yak terobosss😭</td>\n",
       "      <td>1259379786566086658</td>\n",
       "    </tr>\n",
       "    <tr>\n",
       "      <th>2</th>\n",
       "      <td>umk yo regone mundak maneh bos</td>\n",
       "      <td>1572322873</td>\n",
       "    </tr>\n",
       "    <tr>\n",
       "      <th>3</th>\n",
       "      <td>umk kabupatenkota jawa resmi diumumkan kota se...</td>\n",
       "      <td>949224511508955136</td>\n",
       "    </tr>\n",
       "    <tr>\n",
       "      <th>4</th>\n",
       "      <td>sumpah umk malang segini iya mending nyari ker...</td>\n",
       "      <td>181023564</td>\n",
       "    </tr>\n",
       "    <tr>\n",
       "      <th>...</th>\n",
       "      <td>...</td>\n",
       "      <td>...</td>\n",
       "    </tr>\n",
       "    <tr>\n",
       "      <th>1598</th>\n",
       "      <td>ngelihat gaji dihitung make idr susah nyentuh ...</td>\n",
       "      <td>1200035940372078592</td>\n",
       "    </tr>\n",
       "    <tr>\n",
       "      <th>1599</th>\n",
       "      <td>umk solo rp ribu dinilai layak</td>\n",
       "      <td>2392460208</td>\n",
       "    </tr>\n",
       "    <tr>\n",
       "      <th>1600</th>\n",
       "      <td>bicaranya tidak sesuai kenyataan jakarta warga...</td>\n",
       "      <td>984001438408953857</td>\n",
       "    </tr>\n",
       "    <tr>\n",
       "      <th>1601</th>\n",
       "      <td>dikabarkan persen daftar umk provinsi banten c...</td>\n",
       "      <td>1243113157066776576</td>\n",
       "    </tr>\n",
       "    <tr>\n",
       "      <th>1602</th>\n",
       "      <td>nafsu menguasai apapun gaji tidak lihat umk da...</td>\n",
       "      <td>2281623938</td>\n",
       "    </tr>\n",
       "  </tbody>\n",
       "</table>\n",
       "<p>1603 rows × 2 columns</p>\n",
       "</div>"
      ],
      "text/plain": [
       "                                                  tweet               userid\n",
       "0     umk sragen ditetapkan rp rp sayang terendah so...   949224511508955136\n",
       "1        umk kota bekasi ump dki jakarta yak terobosss😭  1259379786566086658\n",
       "2                        umk yo regone mundak maneh bos           1572322873\n",
       "3     umk kabupatenkota jawa resmi diumumkan kota se...   949224511508955136\n",
       "4     sumpah umk malang segini iya mending nyari ker...            181023564\n",
       "...                                                 ...                  ...\n",
       "1598  ngelihat gaji dihitung make idr susah nyentuh ...  1200035940372078592\n",
       "1599                     umk solo rp ribu dinilai layak           2392460208\n",
       "1600  bicaranya tidak sesuai kenyataan jakarta warga...   984001438408953857\n",
       "1601  dikabarkan persen daftar umk provinsi banten c...  1243113157066776576\n",
       "1602  nafsu menguasai apapun gaji tidak lihat umk da...           2281623938\n",
       "\n",
       "[1603 rows x 2 columns]"
      ]
     },
     "execution_count": 106,
     "metadata": {},
     "output_type": "execute_result"
    }
   ],
   "source": [
    "df_tweets"
   ]
  },
  {
   "cell_type": "code",
   "execution_count": 107,
   "metadata": {},
   "outputs": [
    {
     "data": {
      "text/html": [
       "<div>\n",
       "<style scoped>\n",
       "    .dataframe tbody tr th:only-of-type {\n",
       "        vertical-align: middle;\n",
       "    }\n",
       "\n",
       "    .dataframe tbody tr th {\n",
       "        vertical-align: top;\n",
       "    }\n",
       "\n",
       "    .dataframe thead th {\n",
       "        text-align: right;\n",
       "    }\n",
       "</style>\n",
       "<table border=\"1\" class=\"dataframe\">\n",
       "  <thead>\n",
       "    <tr style=\"text-align: right;\">\n",
       "      <th></th>\n",
       "      <th>Sentiment</th>\n",
       "      <th>Text</th>\n",
       "    </tr>\n",
       "  </thead>\n",
       "  <tbody>\n",
       "    <tr>\n",
       "      <th>0</th>\n",
       "      <td>0</td>\n",
       "      <td>&lt;USERNAME&gt; TOLOL!! Gak ada hubungan nya kegug...</td>\n",
       "    </tr>\n",
       "    <tr>\n",
       "      <th>1</th>\n",
       "      <td>0</td>\n",
       "      <td>Geblek lo tata...cowo bgt dibela2in balikan......</td>\n",
       "    </tr>\n",
       "    <tr>\n",
       "      <th>2</th>\n",
       "      <td>0</td>\n",
       "      <td>Kmrn termewek2 skr lengket lg duhhh kok labil ...</td>\n",
       "    </tr>\n",
       "    <tr>\n",
       "      <th>3</th>\n",
       "      <td>0</td>\n",
       "      <td>Intinya kalau kesel dengan ATT nya, gausah ke ...</td>\n",
       "    </tr>\n",
       "    <tr>\n",
       "      <th>4</th>\n",
       "      <td>0</td>\n",
       "      <td>hadewwwww permpuan itu lg!!!!sakit jiwa,knp ha...</td>\n",
       "    </tr>\n",
       "    <tr>\n",
       "      <th>...</th>\n",
       "      <td>...</td>\n",
       "      <td>...</td>\n",
       "    </tr>\n",
       "    <tr>\n",
       "      <th>395</th>\n",
       "      <td>1</td>\n",
       "      <td>Bangga sama suami yg selalu ingat istri disela...</td>\n",
       "    </tr>\n",
       "    <tr>\n",
       "      <th>396</th>\n",
       "      <td>1</td>\n",
       "      <td>Apaoun pekerjaannya yg penting halal u tuk men...</td>\n",
       "    </tr>\n",
       "    <tr>\n",
       "      <th>397</th>\n",
       "      <td>1</td>\n",
       "      <td>Gojek itu mayoritas pegangguran yang lama gak ...</td>\n",
       "    </tr>\n",
       "    <tr>\n",
       "      <th>398</th>\n",
       "      <td>1</td>\n",
       "      <td>&lt;USERNAME&gt; aslinya cantik dan ayu loh mbak kr...</td>\n",
       "    </tr>\n",
       "    <tr>\n",
       "      <th>399</th>\n",
       "      <td>1</td>\n",
       "      <td>&lt;USERNAME&gt; suami saya seumuran sama saya mba,...</td>\n",
       "    </tr>\n",
       "  </tbody>\n",
       "</table>\n",
       "<p>400 rows × 2 columns</p>\n",
       "</div>"
      ],
      "text/plain": [
       "     Sentiment                                               Text\n",
       "0            0   <USERNAME> TOLOL!! Gak ada hubungan nya kegug...\n",
       "1            0  Geblek lo tata...cowo bgt dibela2in balikan......\n",
       "2            0  Kmrn termewek2 skr lengket lg duhhh kok labil ...\n",
       "3            0  Intinya kalau kesel dengan ATT nya, gausah ke ...\n",
       "4            0  hadewwwww permpuan itu lg!!!!sakit jiwa,knp ha...\n",
       "..         ...                                                ...\n",
       "395          1  Bangga sama suami yg selalu ingat istri disela...\n",
       "396          1  Apaoun pekerjaannya yg penting halal u tuk men...\n",
       "397          1  Gojek itu mayoritas pegangguran yang lama gak ...\n",
       "398          1   <USERNAME> aslinya cantik dan ayu loh mbak kr...\n",
       "399          1   <USERNAME> suami saya seumuran sama saya mba,...\n",
       "\n",
       "[400 rows x 2 columns]"
      ]
     },
     "execution_count": 107,
     "metadata": {},
     "output_type": "execute_result"
    }
   ],
   "source": [
    "df_tweets_model"
   ]
  },
  {
   "cell_type": "code",
   "execution_count": 108,
   "metadata": {},
   "outputs": [],
   "source": [
    "import pandas as pd, numpy as np, matplotlib.pyplot as plt,  seaborn as sns\n",
    "import json, tweepy, requests, re, string\n",
    "\n",
    "from nltk.tokenize import word_tokenize\n",
    "from Sastrawi.StopWordRemover.StopWordRemoverFactory import StopWordRemoverFactory\n",
    "from Sastrawi.Stemmer.StemmerFactory import StemmerFactory\n",
    "from nltk.probability import FreqDist\n",
    "import nltk"
   ]
  },
  {
   "cell_type": "code",
   "execution_count": 109,
   "metadata": {},
   "outputs": [],
   "source": [
    "# casefolding\n",
    "def case_folding(text):\n",
    "    text = text.lower()\n",
    "    text = re.sub(r\"\\d+\", \"\", text)\n",
    "    text = text.translate(str.maketrans(\"\",\"\", string.punctuation))\n",
    "    text = text.rstrip().lstrip()\n",
    "    text = text.replace('   ',' ')\n",
    "\n",
    "    return text\n",
    "\n",
    "# tokenizing\n",
    "def tokenizing(text:str):\n",
    "    text_tokens = word_tokenize(text)\n",
    "    return(text_tokens)\n",
    "\n",
    "# filtering (Menghilangkan stopwords)\n",
    "def remove_stopwords(text:str):\n",
    "    stopwords_engine = StopWordRemoverFactory()\n",
    "    stopwords = stopwords_engine.get_stop_words()\n",
    "    more_stopwords = ['username'] # menambahkan stopwords\n",
    "\n",
    "    result = []\n",
    "    for word in text:\n",
    "        if word not in stopwords + more_stopwords:\n",
    "            result.append(word)\n",
    "    return result \n",
    "    \n",
    "# stemming\n",
    "def stemming(text:str):\n",
    "    engine = StemmerFactory()\n",
    "    stemmer = engine.create_stemmer()\n",
    "    text = stemmer.stem(text)\n",
    "\n",
    "    return text"
   ]
  },
  {
   "cell_type": "code",
   "execution_count": 110,
   "metadata": {},
   "outputs": [],
   "source": [
    "output1=[]\n",
    "\n",
    "for text in df_tweets_model['Text']:\n",
    "    text = case_folding(text)\n",
    "    text = tokenizing(text)\n",
    "    text = remove_stopwords(text)\n",
    "    text = stemming(' '.join(text))\n",
    "    output1.append(text)"
   ]
  },
  {
   "cell_type": "code",
   "execution_count": 111,
   "metadata": {},
   "outputs": [],
   "source": [
    "output2=[]\n",
    "\n",
    "for text in df_tweets['tweet']:\n",
    "    text = case_folding(text)\n",
    "    text = tokenizing(text)\n",
    "    text = remove_stopwords(text)\n",
    "    text = stemming(' '.join(text))\n",
    "    output2.append(text)"
   ]
  },
  {
   "cell_type": "code",
   "execution_count": 112,
   "metadata": {},
   "outputs": [
    {
     "data": {
      "text/html": [
       "<div>\n",
       "<style scoped>\n",
       "    .dataframe tbody tr th:only-of-type {\n",
       "        vertical-align: middle;\n",
       "    }\n",
       "\n",
       "    .dataframe tbody tr th {\n",
       "        vertical-align: top;\n",
       "    }\n",
       "\n",
       "    .dataframe thead th {\n",
       "        text-align: right;\n",
       "    }\n",
       "</style>\n",
       "<table border=\"1\" class=\"dataframe\">\n",
       "  <thead>\n",
       "    <tr style=\"text-align: right;\">\n",
       "      <th></th>\n",
       "      <th>Sentiment</th>\n",
       "      <th>Text</th>\n",
       "      <th>clean_text</th>\n",
       "    </tr>\n",
       "  </thead>\n",
       "  <tbody>\n",
       "    <tr>\n",
       "      <th>0</th>\n",
       "      <td>0</td>\n",
       "      <td>&lt;USERNAME&gt; TOLOL!! Gak ada hubungan nya kegug...</td>\n",
       "      <td>tolol gak hubung gugur dgn pake hijab syar yg ...</td>\n",
       "    </tr>\n",
       "    <tr>\n",
       "      <th>1</th>\n",
       "      <td>0</td>\n",
       "      <td>Geblek lo tata...cowo bgt dibela2in balikan......</td>\n",
       "      <td>geblek lo tatacowo bgt bain balikanhadewwntar ...</td>\n",
       "    </tr>\n",
       "    <tr>\n",
       "      <th>2</th>\n",
       "      <td>0</td>\n",
       "      <td>Kmrn termewek2 skr lengket lg duhhh kok labil ...</td>\n",
       "      <td>kmrn mewek skr lengket lg duhhh labil bgt sih ...</td>\n",
       "    </tr>\n",
       "    <tr>\n",
       "      <th>3</th>\n",
       "      <td>0</td>\n",
       "      <td>Intinya kalau kesel dengan ATT nya, gausah ke ...</td>\n",
       "      <td>inti kesel att gausah anak kasi kembang psikis...</td>\n",
       "    </tr>\n",
       "    <tr>\n",
       "      <th>4</th>\n",
       "      <td>0</td>\n",
       "      <td>hadewwwww permpuan itu lg!!!!sakit jiwa,knp ha...</td>\n",
       "      <td>hadewwwww permpuan lgsakit jiwaknp yg jd peran...</td>\n",
       "    </tr>\n",
       "    <tr>\n",
       "      <th>...</th>\n",
       "      <td>...</td>\n",
       "      <td>...</td>\n",
       "      <td>...</td>\n",
       "    </tr>\n",
       "    <tr>\n",
       "      <th>395</th>\n",
       "      <td>1</td>\n",
       "      <td>Bangga sama suami yg selalu ingat istri disela...</td>\n",
       "      <td>bangga suami yg istri sela apa profesi kau jua...</td>\n",
       "    </tr>\n",
       "    <tr>\n",
       "      <th>396</th>\n",
       "      <td>1</td>\n",
       "      <td>Apaoun pekerjaannya yg penting halal u tuk men...</td>\n",
       "      <td>apaoun kerja yg halal tuk nafkah keluarga sema...</td>\n",
       "    </tr>\n",
       "    <tr>\n",
       "      <th>397</th>\n",
       "      <td>1</td>\n",
       "      <td>Gojek itu mayoritas pegangguran yang lama gak ...</td>\n",
       "      <td>gojek mayoritas pegangguran gak trus putus asa...</td>\n",
       "    </tr>\n",
       "    <tr>\n",
       "      <th>398</th>\n",
       "      <td>1</td>\n",
       "      <td>&lt;USERNAME&gt; aslinya cantik dan ayu loh mbak kr...</td>\n",
       "      <td>asli cantik ayu loh mbak krn temu sembak ramah...</td>\n",
       "    </tr>\n",
       "    <tr>\n",
       "      <th>399</th>\n",
       "      <td>1</td>\n",
       "      <td>&lt;USERNAME&gt; suami saya seumuran sama saya mba,...</td>\n",
       "      <td>suami umur mba tua alhamdulillah suami gak kek...</td>\n",
       "    </tr>\n",
       "  </tbody>\n",
       "</table>\n",
       "<p>400 rows × 3 columns</p>\n",
       "</div>"
      ],
      "text/plain": [
       "     Sentiment                                               Text  \\\n",
       "0            0   <USERNAME> TOLOL!! Gak ada hubungan nya kegug...   \n",
       "1            0  Geblek lo tata...cowo bgt dibela2in balikan......   \n",
       "2            0  Kmrn termewek2 skr lengket lg duhhh kok labil ...   \n",
       "3            0  Intinya kalau kesel dengan ATT nya, gausah ke ...   \n",
       "4            0  hadewwwww permpuan itu lg!!!!sakit jiwa,knp ha...   \n",
       "..         ...                                                ...   \n",
       "395          1  Bangga sama suami yg selalu ingat istri disela...   \n",
       "396          1  Apaoun pekerjaannya yg penting halal u tuk men...   \n",
       "397          1  Gojek itu mayoritas pegangguran yang lama gak ...   \n",
       "398          1   <USERNAME> aslinya cantik dan ayu loh mbak kr...   \n",
       "399          1   <USERNAME> suami saya seumuran sama saya mba,...   \n",
       "\n",
       "                                            clean_text  \n",
       "0    tolol gak hubung gugur dgn pake hijab syar yg ...  \n",
       "1    geblek lo tatacowo bgt bain balikanhadewwntar ...  \n",
       "2    kmrn mewek skr lengket lg duhhh labil bgt sih ...  \n",
       "3    inti kesel att gausah anak kasi kembang psikis...  \n",
       "4    hadewwwww permpuan lgsakit jiwaknp yg jd peran...  \n",
       "..                                                 ...  \n",
       "395  bangga suami yg istri sela apa profesi kau jua...  \n",
       "396  apaoun kerja yg halal tuk nafkah keluarga sema...  \n",
       "397  gojek mayoritas pegangguran gak trus putus asa...  \n",
       "398  asli cantik ayu loh mbak krn temu sembak ramah...  \n",
       "399  suami umur mba tua alhamdulillah suami gak kek...  \n",
       "\n",
       "[400 rows x 3 columns]"
      ]
     },
     "execution_count": 112,
     "metadata": {},
     "output_type": "execute_result"
    }
   ],
   "source": [
    "df_tweets_model[\"clean_text\"] = pd.DataFrame(data=output1)\n",
    "df_tweets_model"
   ]
  },
  {
   "cell_type": "code",
   "execution_count": 113,
   "metadata": {},
   "outputs": [
    {
     "data": {
      "text/html": [
       "<div>\n",
       "<style scoped>\n",
       "    .dataframe tbody tr th:only-of-type {\n",
       "        vertical-align: middle;\n",
       "    }\n",
       "\n",
       "    .dataframe tbody tr th {\n",
       "        vertical-align: top;\n",
       "    }\n",
       "\n",
       "    .dataframe thead th {\n",
       "        text-align: right;\n",
       "    }\n",
       "</style>\n",
       "<table border=\"1\" class=\"dataframe\">\n",
       "  <thead>\n",
       "    <tr style=\"text-align: right;\">\n",
       "      <th></th>\n",
       "      <th>tweet</th>\n",
       "      <th>userid</th>\n",
       "      <th>clean_tweet</th>\n",
       "    </tr>\n",
       "  </thead>\n",
       "  <tbody>\n",
       "    <tr>\n",
       "      <th>0</th>\n",
       "      <td>umk sragen ditetapkan rp rp sayang terendah so...</td>\n",
       "      <td>949224511508955136</td>\n",
       "      <td>umk sragen tetap rp rp sayang rendah soloraya</td>\n",
       "    </tr>\n",
       "    <tr>\n",
       "      <th>1</th>\n",
       "      <td>umk kota bekasi ump dki jakarta yak terobosss😭</td>\n",
       "      <td>1259379786566086658</td>\n",
       "      <td>umk kota bekas ump dki jakarta yak terobosss</td>\n",
       "    </tr>\n",
       "    <tr>\n",
       "      <th>2</th>\n",
       "      <td>umk yo regone mundak maneh bos</td>\n",
       "      <td>1572322873</td>\n",
       "      <td>umk yo regone mundak maneh bos</td>\n",
       "    </tr>\n",
       "    <tr>\n",
       "      <th>3</th>\n",
       "      <td>umk kabupatenkota jawa resmi diumumkan kota se...</td>\n",
       "      <td>949224511508955136</td>\n",
       "      <td>umk kabupatenkota jawa resmi umum kota semaran...</td>\n",
       "    </tr>\n",
       "    <tr>\n",
       "      <th>4</th>\n",
       "      <td>sumpah umk malang segini iya mending nyari ker...</td>\n",
       "      <td>181023564</td>\n",
       "      <td>sumpah umk malang gin iya mending nyari malang...</td>\n",
       "    </tr>\n",
       "    <tr>\n",
       "      <th>...</th>\n",
       "      <td>...</td>\n",
       "      <td>...</td>\n",
       "      <td>...</td>\n",
       "    </tr>\n",
       "    <tr>\n",
       "      <th>1598</th>\n",
       "      <td>ngelihat gaji dihitung make idr susah nyentuh ...</td>\n",
       "      <td>1200035940372078592</td>\n",
       "      <td>ngelihat gaji hitung make idr susah nyentuh no...</td>\n",
       "    </tr>\n",
       "    <tr>\n",
       "      <th>1599</th>\n",
       "      <td>umk solo rp ribu dinilai layak</td>\n",
       "      <td>2392460208</td>\n",
       "      <td>umk solo rp ribu nilai layak</td>\n",
       "    </tr>\n",
       "    <tr>\n",
       "      <th>1600</th>\n",
       "      <td>bicaranya tidak sesuai kenyataan jakarta warga...</td>\n",
       "      <td>984001438408953857</td>\n",
       "      <td>bicara sesuai nyata jakarta warga terima akiba...</td>\n",
       "    </tr>\n",
       "    <tr>\n",
       "      <th>1601</th>\n",
       "      <td>dikabarkan persen daftar umk provinsi banten c...</td>\n",
       "      <td>1243113157066776576</td>\n",
       "      <td>kabar persen daftar umk provinsi banten cilego...</td>\n",
       "    </tr>\n",
       "    <tr>\n",
       "      <th>1602</th>\n",
       "      <td>nafsu menguasai apapun gaji tidak lihat umk da...</td>\n",
       "      <td>2281623938</td>\n",
       "      <td>nafsu kuasa apa gaji umk daerah contoh jawa se...</td>\n",
       "    </tr>\n",
       "  </tbody>\n",
       "</table>\n",
       "<p>1603 rows × 3 columns</p>\n",
       "</div>"
      ],
      "text/plain": [
       "                                                  tweet               userid  \\\n",
       "0     umk sragen ditetapkan rp rp sayang terendah so...   949224511508955136   \n",
       "1        umk kota bekasi ump dki jakarta yak terobosss😭  1259379786566086658   \n",
       "2                        umk yo regone mundak maneh bos           1572322873   \n",
       "3     umk kabupatenkota jawa resmi diumumkan kota se...   949224511508955136   \n",
       "4     sumpah umk malang segini iya mending nyari ker...            181023564   \n",
       "...                                                 ...                  ...   \n",
       "1598  ngelihat gaji dihitung make idr susah nyentuh ...  1200035940372078592   \n",
       "1599                     umk solo rp ribu dinilai layak           2392460208   \n",
       "1600  bicaranya tidak sesuai kenyataan jakarta warga...   984001438408953857   \n",
       "1601  dikabarkan persen daftar umk provinsi banten c...  1243113157066776576   \n",
       "1602  nafsu menguasai apapun gaji tidak lihat umk da...           2281623938   \n",
       "\n",
       "                                            clean_tweet  \n",
       "0         umk sragen tetap rp rp sayang rendah soloraya  \n",
       "1          umk kota bekas ump dki jakarta yak terobosss  \n",
       "2                        umk yo regone mundak maneh bos  \n",
       "3     umk kabupatenkota jawa resmi umum kota semaran...  \n",
       "4     sumpah umk malang gin iya mending nyari malang...  \n",
       "...                                                 ...  \n",
       "1598  ngelihat gaji hitung make idr susah nyentuh no...  \n",
       "1599                       umk solo rp ribu nilai layak  \n",
       "1600  bicara sesuai nyata jakarta warga terima akiba...  \n",
       "1601  kabar persen daftar umk provinsi banten cilego...  \n",
       "1602  nafsu kuasa apa gaji umk daerah contoh jawa se...  \n",
       "\n",
       "[1603 rows x 3 columns]"
      ]
     },
     "execution_count": 113,
     "metadata": {},
     "output_type": "execute_result"
    }
   ],
   "source": [
    "df_tweets[\"clean_tweet\"] = pd.DataFrame(data=output2)\n",
    "df_tweets"
   ]
  },
  {
   "cell_type": "code",
   "execution_count": 114,
   "metadata": {},
   "outputs": [],
   "source": [
    "# for i in df_tweets[\"clean_tweet\"]:\n",
    "#     print(i)"
   ]
  },
  {
   "cell_type": "markdown",
   "metadata": {},
   "source": [
    "## Machine Learning & Data Teks"
   ]
  },
  {
   "cell_type": "markdown",
   "metadata": {},
   "source": [
    "Seperti yang kita tahu untuk dapat menggunakan sebuah model machine learning maka kita membutuhkan data dengan tipe numerik atau integer, akan tetapi salah satu satu feature yang kita miliki merupakan data teks. Nah pada kesempatan ini kita akan memanfaatkan metode perubahan data teks - matriks yang sudah kita pelajari sebelumnya, yaitu TF-IDF\n",
    "\n",
    "Mari kita mulai, kita akan memanfaatkan metode TfidVectorizer pada library sklearn dan gaussian Naive Bayes."
   ]
  },
  {
   "cell_type": "code",
   "execution_count": 115,
   "metadata": {},
   "outputs": [],
   "source": [
    "vectorizer = TfidfVectorizer (max_features=2500)\n",
    "\n",
    "model_g = GaussianNB()"
   ]
  },
  {
   "cell_type": "markdown",
   "metadata": {},
   "source": [
    "Lalu kita ubah data text_clean kita ke dalam bentuk TFIDF Vectorizer"
   ]
  },
  {
   "cell_type": "code",
   "execution_count": 116,
   "metadata": {},
   "outputs": [],
   "source": [
    "v_data = vectorizer.fit_transform(df_tweets_model['clean_text']).toarray()"
   ]
  },
  {
   "cell_type": "code",
   "execution_count": 117,
   "metadata": {},
   "outputs": [
    {
     "data": {
      "text/plain": [
       "<400x2500 sparse matrix of type '<class 'numpy.float64'>'\n",
       "\twith 5920 stored elements in Compressed Sparse Row format>"
      ]
     },
     "execution_count": 117,
     "metadata": {},
     "output_type": "execute_result"
    }
   ],
   "source": [
    "vectorizer.fit_transform(df_tweets_model['clean_text'])"
   ]
  },
  {
   "cell_type": "markdown",
   "metadata": {},
   "source": [
    "Setelah ini mari kita lakukan pembagian data menjadi data train dan testing lalu fit kedalam model kita."
   ]
  },
  {
   "cell_type": "code",
   "execution_count": 118,
   "metadata": {},
   "outputs": [
    {
     "data": {
      "text/plain": [
       "GaussianNB()"
      ]
     },
     "execution_count": 118,
     "metadata": {},
     "output_type": "execute_result"
    }
   ],
   "source": [
    "X_train, X_test, y_train, y_test = train_test_split(v_data, df_tweets_model['Sentiment'], test_size=0.2, random_state=31)\n",
    "\n",
    "model_g.fit(X_train,y_train)"
   ]
  },
  {
   "cell_type": "code",
   "execution_count": 119,
   "metadata": {},
   "outputs": [],
   "source": [
    "y_preds = model_g.predict(X_test)"
   ]
  },
  {
   "cell_type": "code",
   "execution_count": 120,
   "metadata": {},
   "outputs": [
    {
     "name": "stdout",
     "output_type": "stream",
     "text": [
      "[[32  4]\n",
      " [ 7 37]]\n",
      "              precision    recall  f1-score   support\n",
      "\n",
      "           0       0.82      0.89      0.85        36\n",
      "           1       0.90      0.84      0.87        44\n",
      "\n",
      "    accuracy                           0.86        80\n",
      "   macro avg       0.86      0.86      0.86        80\n",
      "weighted avg       0.87      0.86      0.86        80\n",
      "\n",
      "nilai akurasinya adalah  0.8625\n"
     ]
    }
   ],
   "source": [
    "print(confusion_matrix(y_test,y_preds))\n",
    "\n",
    "print(classification_report(y_test,y_preds))\n",
    "\n",
    "print('nilai akurasinya adalah ',accuracy_score(y_test, y_preds))"
   ]
  },
  {
   "cell_type": "markdown",
   "metadata": {},
   "source": [
    "Nilai Akurasi, Precision, Recall, F1-Score diatas 80 menunjukkan model kita merupakan model yang cukup baik untuk kasus ini. Support yang tidak terlalu jauh juga menandakan bahwa pembagian dataset kita cukup baik. Jika suppor kita berbeda jauh bisa dicoba mengubah nilai random_state agar pembagian label 1 dan 2 lebih seimbang."
   ]
  },
  {
   "cell_type": "markdown",
   "metadata": {},
   "source": [
    "Sekarang mari kita gunakan untuk melakukan klasifikasi pada data tweet_umk yang sudah kita masukkan pada df_tweets"
   ]
  },
  {
   "cell_type": "code",
   "execution_count": 121,
   "metadata": {},
   "outputs": [],
   "source": [
    "v_data = vectorizer.transform(df_tweets[\"clean_tweet\"]).toarray()\n",
    "\n",
    "y_classification = model_g.predict(v_data)\n",
    "\n",
    "\n",
    "df_tweets[\"sentiment\"] = list(y_classification)"
   ]
  },
  {
   "cell_type": "code",
   "execution_count": 122,
   "metadata": {},
   "outputs": [
    {
     "data": {
      "text/html": [
       "<div>\n",
       "<style scoped>\n",
       "    .dataframe tbody tr th:only-of-type {\n",
       "        vertical-align: middle;\n",
       "    }\n",
       "\n",
       "    .dataframe tbody tr th {\n",
       "        vertical-align: top;\n",
       "    }\n",
       "\n",
       "    .dataframe thead th {\n",
       "        text-align: right;\n",
       "    }\n",
       "</style>\n",
       "<table border=\"1\" class=\"dataframe\">\n",
       "  <thead>\n",
       "    <tr style=\"text-align: right;\">\n",
       "      <th></th>\n",
       "      <th>tweet</th>\n",
       "      <th>userid</th>\n",
       "      <th>clean_tweet</th>\n",
       "      <th>sentiment</th>\n",
       "    </tr>\n",
       "  </thead>\n",
       "  <tbody>\n",
       "    <tr>\n",
       "      <th>0</th>\n",
       "      <td>umk sragen ditetapkan rp rp sayang terendah so...</td>\n",
       "      <td>949224511508955136</td>\n",
       "      <td>umk sragen tetap rp rp sayang rendah soloraya</td>\n",
       "      <td>1</td>\n",
       "    </tr>\n",
       "    <tr>\n",
       "      <th>1</th>\n",
       "      <td>umk kota bekasi ump dki jakarta yak terobosss😭</td>\n",
       "      <td>1259379786566086658</td>\n",
       "      <td>umk kota bekas ump dki jakarta yak terobosss</td>\n",
       "      <td>1</td>\n",
       "    </tr>\n",
       "    <tr>\n",
       "      <th>2</th>\n",
       "      <td>umk yo regone mundak maneh bos</td>\n",
       "      <td>1572322873</td>\n",
       "      <td>umk yo regone mundak maneh bos</td>\n",
       "      <td>1</td>\n",
       "    </tr>\n",
       "    <tr>\n",
       "      <th>3</th>\n",
       "      <td>umk kabupatenkota jawa resmi diumumkan kota se...</td>\n",
       "      <td>949224511508955136</td>\n",
       "      <td>umk kabupatenkota jawa resmi umum kota semaran...</td>\n",
       "      <td>1</td>\n",
       "    </tr>\n",
       "    <tr>\n",
       "      <th>4</th>\n",
       "      <td>sumpah umk malang segini iya mending nyari ker...</td>\n",
       "      <td>181023564</td>\n",
       "      <td>sumpah umk malang gin iya mending nyari malang...</td>\n",
       "      <td>0</td>\n",
       "    </tr>\n",
       "    <tr>\n",
       "      <th>...</th>\n",
       "      <td>...</td>\n",
       "      <td>...</td>\n",
       "      <td>...</td>\n",
       "      <td>...</td>\n",
       "    </tr>\n",
       "    <tr>\n",
       "      <th>1598</th>\n",
       "      <td>ngelihat gaji dihitung make idr susah nyentuh ...</td>\n",
       "      <td>1200035940372078592</td>\n",
       "      <td>ngelihat gaji hitung make idr susah nyentuh no...</td>\n",
       "      <td>0</td>\n",
       "    </tr>\n",
       "    <tr>\n",
       "      <th>1599</th>\n",
       "      <td>umk solo rp ribu dinilai layak</td>\n",
       "      <td>2392460208</td>\n",
       "      <td>umk solo rp ribu nilai layak</td>\n",
       "      <td>1</td>\n",
       "    </tr>\n",
       "    <tr>\n",
       "      <th>1600</th>\n",
       "      <td>bicaranya tidak sesuai kenyataan jakarta warga...</td>\n",
       "      <td>984001438408953857</td>\n",
       "      <td>bicara sesuai nyata jakarta warga terima akiba...</td>\n",
       "      <td>0</td>\n",
       "    </tr>\n",
       "    <tr>\n",
       "      <th>1601</th>\n",
       "      <td>dikabarkan persen daftar umk provinsi banten c...</td>\n",
       "      <td>1243113157066776576</td>\n",
       "      <td>kabar persen daftar umk provinsi banten cilego...</td>\n",
       "      <td>1</td>\n",
       "    </tr>\n",
       "    <tr>\n",
       "      <th>1602</th>\n",
       "      <td>nafsu menguasai apapun gaji tidak lihat umk da...</td>\n",
       "      <td>2281623938</td>\n",
       "      <td>nafsu kuasa apa gaji umk daerah contoh jawa se...</td>\n",
       "      <td>0</td>\n",
       "    </tr>\n",
       "  </tbody>\n",
       "</table>\n",
       "<p>1603 rows × 4 columns</p>\n",
       "</div>"
      ],
      "text/plain": [
       "                                                  tweet               userid  \\\n",
       "0     umk sragen ditetapkan rp rp sayang terendah so...   949224511508955136   \n",
       "1        umk kota bekasi ump dki jakarta yak terobosss😭  1259379786566086658   \n",
       "2                        umk yo regone mundak maneh bos           1572322873   \n",
       "3     umk kabupatenkota jawa resmi diumumkan kota se...   949224511508955136   \n",
       "4     sumpah umk malang segini iya mending nyari ker...            181023564   \n",
       "...                                                 ...                  ...   \n",
       "1598  ngelihat gaji dihitung make idr susah nyentuh ...  1200035940372078592   \n",
       "1599                     umk solo rp ribu dinilai layak           2392460208   \n",
       "1600  bicaranya tidak sesuai kenyataan jakarta warga...   984001438408953857   \n",
       "1601  dikabarkan persen daftar umk provinsi banten c...  1243113157066776576   \n",
       "1602  nafsu menguasai apapun gaji tidak lihat umk da...           2281623938   \n",
       "\n",
       "                                            clean_tweet  sentiment  \n",
       "0         umk sragen tetap rp rp sayang rendah soloraya          1  \n",
       "1          umk kota bekas ump dki jakarta yak terobosss          1  \n",
       "2                        umk yo regone mundak maneh bos          1  \n",
       "3     umk kabupatenkota jawa resmi umum kota semaran...          1  \n",
       "4     sumpah umk malang gin iya mending nyari malang...          0  \n",
       "...                                                 ...        ...  \n",
       "1598  ngelihat gaji hitung make idr susah nyentuh no...          0  \n",
       "1599                       umk solo rp ribu nilai layak          1  \n",
       "1600  bicara sesuai nyata jakarta warga terima akiba...          0  \n",
       "1601  kabar persen daftar umk provinsi banten cilego...          1  \n",
       "1602  nafsu kuasa apa gaji umk daerah contoh jawa se...          0  \n",
       "\n",
       "[1603 rows x 4 columns]"
      ]
     },
     "execution_count": 122,
     "metadata": {},
     "output_type": "execute_result"
    }
   ],
   "source": [
    "df_tweets"
   ]
  },
  {
   "cell_type": "markdown",
   "metadata": {},
   "source": [
    "Distribusi Data yang sering muncul"
   ]
  },
  {
   "cell_type": "code",
   "execution_count": 125,
   "metadata": {},
   "outputs": [],
   "source": [
    "# Pertama kita lakukan tokenization pada dataset kita\n",
    "\n",
    "new_clean = df_tweets['clean_tweet'].apply(lambda x: word_tokenize(str(x)))"
   ]
  },
  {
   "cell_type": "code",
   "execution_count": 126,
   "metadata": {},
   "outputs": [],
   "source": [
    "# masukkan pada semua token tersebut pada satu list yang sama\n",
    "\n",
    "list_word = [word for data in new_clean for word in data]"
   ]
  },
  {
   "cell_type": "code",
   "execution_count": 127,
   "metadata": {},
   "outputs": [
    {
     "name": "stdout",
     "output_type": "stream",
     "text": [
      "<FreqDist with 2892 samples and 16188 outcomes>\n"
     ]
    }
   ],
   "source": [
    "fqdist = FreqDist(list_word)\n",
    "print(fqdist)"
   ]
  },
  {
   "cell_type": "code",
   "execution_count": 128,
   "metadata": {},
   "outputs": [
    {
     "name": "stdout",
     "output_type": "stream",
     "text": [
      "[('umk', 1640), ('jawa', 589), ('buruh', 322), ('tetap', 259), ('kota', 258), ('gubernur', 241), ('timur', 238), ('barat', 236), ('naik', 204), ('rp', 198), ('upah', 198), ('gaji', 191), ('kabupaten', 169), ('besar', 166), ('daftar', 159), ('tinggi', 126), ('daerah', 125), ('minimum', 117), ('usaha', 117), ('kabupatenkota', 103)]\n"
     ]
    }
   ],
   "source": [
    "# Untuk mengetahui kata dan jumlah dari masing-masing kata\n",
    "\n",
    "most_common_word = fqdist.most_common(20)\n",
    "print(most_common_word)"
   ]
  },
  {
   "cell_type": "code",
   "execution_count": 129,
   "metadata": {},
   "outputs": [
    {
     "data": {
      "image/png": "[encoded data removed]",
      "text/plain": [
       "<Figure size 432x288 with 1 Axes>"
      ]
     },
     "metadata": {
      "needs_background": "light"
     },
     "output_type": "display_data"
    }
   ],
   "source": [
    "# Visualisasi\n",
    "\n",
    "fqdist.plot(20,cumulative=False)\n",
    "plt.show()  "
   ]
  },
  {
   "cell_type": "markdown",
   "metadata": {},
   "source": [
    "Distribusi N-Gram"
   ]
  },
  {
   "cell_type": "code",
   "execution_count": 130,
   "metadata": {},
   "outputs": [
    {
     "name": "stdout",
     "output_type": "stream",
     "text": [
      "(jawa, timur)               232\n",
      "(jawa, barat)               227\n",
      "(umk, jawa)                 169\n",
      "(naik, umk)                 127\n",
      "(upah, minimum)             116\n",
      "(tetap, umk)                113\n",
      "(besar, umk)                 98\n",
      "(gaji, umk)                  79\n",
      "(gubernur, jawa)             77\n",
      "(daftar, umk)                73\n",
      "(umk, kabupaten)             65\n",
      "(ridwan, kamil)              64\n",
      "(daftar, lengkap)            62\n",
      "(umk, kota)                  59\n",
      "(rp, ribu)                   56\n",
      "(kota, bekas)                47\n",
      "(umk, kabupatenkota)         47\n",
      "(minimum, kabupatenkota)     41\n",
      "(umk, buruh)                 40\n",
      "(kabupatenkota, umk)         40\n",
      "dtype: int64\n"
     ]
    }
   ],
   "source": [
    "result = pd.Series(nltk.ngrams(list_word, 2)).value_counts()[:20]\n",
    "print(result)"
   ]
  }
 ],
 "metadata": {
  "interpreter": {
   "hash": "3454bc21589f5bc48f743d0fde9bff51384294738c6356029fae86a372931a9f"
  },
  "kernelspec": {
   "display_name": "Python 3.9.4 64-bit",
   "language": "python",
   "name": "python3"
  },
  "language_info": {
   "codemirror_mode": {
    "name": "ipython",
    "version": 3
   },
   "file_extension": ".py",
   "mimetype": "text/x-python",
   "name": "python",
   "nbconvert_exporter": "python",
   "pygments_lexer": "ipython3",
   "version": "3.9.4"
  },
  "orig_nbformat": 4
 },
 "nbformat": 4,
 "nbformat_minor": 2
}
